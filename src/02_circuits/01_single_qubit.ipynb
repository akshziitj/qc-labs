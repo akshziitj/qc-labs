{
  "nbformat": 4,
  "nbformat_minor": 0,
  "metadata": {
    "colab": {
      "provenance": [],
      "authorship_tag": "ABX9TyNzY0r9KI6p4SgyDSN8MWJz",
      "include_colab_link": true
    },
    "kernelspec": {
      "name": "python3",
      "display_name": "Python 3"
    },
    "language_info": {
      "name": "python"
    }
  },
  "cells": [
    {
      "cell_type": "markdown",
      "metadata": {
        "id": "view-in-github",
        "colab_type": "text"
      },
      "source": [
        "<a href=\"https://colab.research.google.com/github/akshziitj/qc-labs/blob/main/src/02_circuits/01_single_qubit.ipynb\" target=\"_parent\"><img src=\"https://colab.research.google.com/assets/colab-badge.svg\" alt=\"Open In Colab\"/></a>"
      ]
    },
    {
      "cell_type": "markdown",
      "source": [
        "# **Single Qubit Gates**\n",
        "---\n",
        "\n",
        "```\n",
        "* qml.Hadamard(wires=0)                # Hadamard\n",
        "* qml.PauliX(wires=0)                  # X gate\n",
        "* qml.PauliY(wires=0)                  # Y gate\n",
        "* qml.PauliZ(wires=0)                  # Z gate\n",
        "\n",
        "* qml.S(wires=0)                       # Phase gate\n",
        "* qml.T(wires=0)                       # T gate\n",
        "* qml.RX(np.pi/2, wires=0)             # Rotation around X\n",
        "* qml.RY(np.pi/3, wires=0)             # Rotation around Y\n",
        "* qml.RZ(np.pi/4, wires=0)             # Rotation around Z\n",
        "* qml.PhaseShift(np.pi/6, wires=0)     # General phase shift\n",
        "```\n",
        "\n",
        "\n",
        "\n",
        "\n"
      ],
      "metadata": {
        "id": "rd9zD4aUVET9"
      }
    },
    {
      "cell_type": "code",
      "source": [
        "# Install Pennylane\n",
        "!pip install pennylane"
      ],
      "metadata": {
        "id": "hoQZIuzcVFsq",
        "collapsed": true,
        "outputId": "40eb4a89-8c8b-4eee-ec30-564738894efb",
        "colab": {
          "base_uri": "https://localhost:8080/"
        }
      },
      "execution_count": 1,
      "outputs": [
        {
          "output_type": "stream",
          "name": "stdout",
          "text": [
            "Requirement already satisfied: pennylane in /usr/local/lib/python3.12/dist-packages (0.42.3)\n",
            "Requirement already satisfied: scipy in /usr/local/lib/python3.12/dist-packages (from pennylane) (1.16.1)\n",
            "Requirement already satisfied: networkx in /usr/local/lib/python3.12/dist-packages (from pennylane) (3.5)\n",
            "Requirement already satisfied: rustworkx>=0.14.0 in /usr/local/lib/python3.12/dist-packages (from pennylane) (0.17.1)\n",
            "Requirement already satisfied: autograd in /usr/local/lib/python3.12/dist-packages (from pennylane) (1.8.0)\n",
            "Requirement already satisfied: appdirs in /usr/local/lib/python3.12/dist-packages (from pennylane) (1.4.4)\n",
            "Requirement already satisfied: autoray<0.8,>=0.6.11 in /usr/local/lib/python3.12/dist-packages (from pennylane) (0.7.2)\n",
            "Requirement already satisfied: cachetools in /usr/local/lib/python3.12/dist-packages (from pennylane) (5.5.2)\n",
            "Requirement already satisfied: pennylane-lightning>=0.42 in /usr/local/lib/python3.12/dist-packages (from pennylane) (0.42.0)\n",
            "Requirement already satisfied: requests in /usr/local/lib/python3.12/dist-packages (from pennylane) (2.32.4)\n",
            "Requirement already satisfied: tomlkit in /usr/local/lib/python3.12/dist-packages (from pennylane) (0.13.3)\n",
            "Requirement already satisfied: typing_extensions in /usr/local/lib/python3.12/dist-packages (from pennylane) (4.15.0)\n",
            "Requirement already satisfied: packaging in /usr/local/lib/python3.12/dist-packages (from pennylane) (25.0)\n",
            "Requirement already satisfied: diastatic-malt in /usr/local/lib/python3.12/dist-packages (from pennylane) (2.15.2)\n",
            "Requirement already satisfied: numpy in /usr/local/lib/python3.12/dist-packages (from pennylane) (2.0.2)\n",
            "Requirement already satisfied: scipy-openblas32>=0.3.26 in /usr/local/lib/python3.12/dist-packages (from pennylane-lightning>=0.42->pennylane) (0.3.30.0.2)\n",
            "Requirement already satisfied: astunparse in /usr/local/lib/python3.12/dist-packages (from diastatic-malt->pennylane) (1.6.3)\n",
            "Requirement already satisfied: gast in /usr/local/lib/python3.12/dist-packages (from diastatic-malt->pennylane) (0.6.0)\n",
            "Requirement already satisfied: termcolor in /usr/local/lib/python3.12/dist-packages (from diastatic-malt->pennylane) (3.1.0)\n",
            "Requirement already satisfied: charset_normalizer<4,>=2 in /usr/local/lib/python3.12/dist-packages (from requests->pennylane) (3.4.3)\n",
            "Requirement already satisfied: idna<4,>=2.5 in /usr/local/lib/python3.12/dist-packages (from requests->pennylane) (3.10)\n",
            "Requirement already satisfied: urllib3<3,>=1.21.1 in /usr/local/lib/python3.12/dist-packages (from requests->pennylane) (2.5.0)\n",
            "Requirement already satisfied: certifi>=2017.4.17 in /usr/local/lib/python3.12/dist-packages (from requests->pennylane) (2025.8.3)\n",
            "Requirement already satisfied: wheel<1.0,>=0.23.0 in /usr/local/lib/python3.12/dist-packages (from astunparse->diastatic-malt->pennylane) (0.45.1)\n",
            "Requirement already satisfied: six<2.0,>=1.6.1 in /usr/local/lib/python3.12/dist-packages (from astunparse->diastatic-malt->pennylane) (1.17.0)\n"
          ]
        }
      ]
    },
    {
      "cell_type": "code",
      "source": [
        "# import libararies\n",
        "import pennylane as qml\n",
        "from pennylane import numpy as np"
      ],
      "metadata": {
        "id": "6s_zLOghZtBY"
      },
      "execution_count": 2,
      "outputs": []
    },
    {
      "cell_type": "code",
      "source": [
        "# Define Hadamard Device\n",
        "dev_hadamard = qml.device(\"default.qubit\", wires=1)\n",
        "\n",
        "# Define Hadamard Circuit\n",
        "@qml.qnode(dev_hadamard)\n",
        "def hadamard_circuit():\n",
        "    qml.Hadamard(wires=0)\n",
        "    return qml.state()\n",
        "\n",
        "# Print statevector and the circuit diagram\n",
        "print(hadamard_circuit())\n",
        "print(qml.draw(hadamard_circuit)())\n",
        "print(qml.draw_mpl(hadamard_circuit)())"
      ],
      "metadata": {
        "id": "BMELeL8qZvtL",
        "outputId": "e0417992-07d6-4966-cf3f-6b53b10de42a",
        "colab": {
          "base_uri": "https://localhost:8080/",
          "height": 289
        }
      },
      "execution_count": 3,
      "outputs": [
        {
          "output_type": "stream",
          "name": "stdout",
          "text": [
            "[0.70710678+0.j 0.70710678+0.j]\n",
            "0: ──H─┤  State\n",
            "(<Figure size 400x200 with 1 Axes>, <Axes: >)\n"
          ]
        },
        {
          "output_type": "display_data",
          "data": {
            "text/plain": [
              "<Figure size 400x200 with 1 Axes>"
            ],
            "image/png": "[encoded data removed]"
          },
          "metadata": {}
        }
      ]
    },
    {
      "cell_type": "code",
      "source": [
        "# Define PauliX Device\n",
        "dev_pauli_x = qml.device(\"default.qubit\", wires=1)\n",
        "\n",
        "# Define Pauli X Circuit\n",
        "@qml.qnode(dev_pauli_x)\n",
        "def pauli_x_circuit():\n",
        "  qml.PauliX(wires=0)\n",
        "  return qml.state()\n",
        "\n",
        "# Print StateVector and Circuit Diagram\n",
        "print(pauli_x_circuit())\n",
        "print(qml.draw(pauli_x_circuit)())\n",
        "print(qml.draw_mpl(pauli_x_circuit)())"
      ],
      "metadata": {
        "id": "ap66a_0RZzar",
        "outputId": "e380195b-3a90-4c50-f1a7-e808902dd252",
        "colab": {
          "base_uri": "https://localhost:8080/",
          "height": 289
        }
      },
      "execution_count": 4,
      "outputs": [
        {
          "output_type": "stream",
          "name": "stdout",
          "text": [
            "[0.+0.j 1.+0.j]\n",
            "0: ──X─┤  State\n",
            "(<Figure size 400x200 with 1 Axes>, <Axes: >)\n"
          ]
        },
        {
          "output_type": "display_data",
          "data": {
            "text/plain": [
              "<Figure size 400x200 with 1 Axes>"
            ],
            "image/png": "[encoded data removed]"
          },
          "metadata": {}
        }
      ]
    },
    {
      "cell_type": "code",
      "source": [
        "# Define Pauli Y Device\n",
        "dev_pauli_y = qml.device(\"default.qubit\", wires=1)\n",
        "\n",
        "# Define Pauli Y Circuit\n",
        "@qml.qnode(dev_pauli_y)\n",
        "def pauli_y_circuit():\n",
        "  qml.PauliY(wires=0)\n",
        "  return qml.state()\n",
        "\n",
        "# Print StateVector and Circuit Diagram\n",
        "print(pauli_y_circuit())\n",
        "print(qml.draw(pauli_y_circuit)())\n",
        "print(qml.draw_mpl(pauli_y_circuit)())"
      ],
      "metadata": {
        "id": "0bqHviHuZ6TL",
        "outputId": "30a1b149-6c61-4020-dc59-87ad6d4749be",
        "colab": {
          "base_uri": "https://localhost:8080/",
          "height": 289
        }
      },
      "execution_count": 5,
      "outputs": [
        {
          "output_type": "stream",
          "name": "stdout",
          "text": [
            "[0.+0.j 0.+1.j]\n",
            "0: ──Y─┤  State\n",
            "(<Figure size 400x200 with 1 Axes>, <Axes: >)\n"
          ]
        },
        {
          "output_type": "display_data",
          "data": {
            "text/plain": [
              "<Figure size 400x200 with 1 Axes>"
            ],
            "image/png": "[encoded data removed]"
          },
          "metadata": {}
        }
      ]
    },
    {
      "cell_type": "code",
      "source": [
        "# Define Pauli Z Circuit\n",
        "dev_pauli_z = qml.device(\"default.qubit\", wires=1)\n",
        "\n",
        "@qml.qnode(dev_pauli_z)\n",
        "def pauli_z_circuit():\n",
        "  qml.PauliZ(wires=0)\n",
        "  return qml.state()\n",
        "\n",
        "# Print State Vector and Circuit Diagram\n",
        "print(pauli_z_circuit())\n",
        "print(qml.draw(pauli_z_circuit)())\n",
        "print(qml.draw_mpl(pauli_z_circuit)())"
      ],
      "metadata": {
        "id": "Q46aMpxta36R",
        "outputId": "b4e10d2f-ddc0-4d52-cdcf-d3e8c70cc789",
        "colab": {
          "base_uri": "https://localhost:8080/",
          "height": 289
        }
      },
      "execution_count": 6,
      "outputs": [
        {
          "output_type": "stream",
          "name": "stdout",
          "text": [
            "[ 1.+0.j -0.+0.j]\n",
            "0: ──Z─┤  State\n",
            "(<Figure size 400x200 with 1 Axes>, <Axes: >)\n"
          ]
        },
        {
          "output_type": "display_data",
          "data": {
            "text/plain": [
              "<Figure size 400x200 with 1 Axes>"
            ],
            "image/png": "[encoded data removed]"
          },
          "metadata": {}
        }
      ]
    },
    {
      "cell_type": "code",
      "source": [
        "# Define Phase Gate Device\n",
        "dev_phase = qml.device(\"default.qubit\", wires=1)\n",
        "\n",
        "# Define Phase Gate Circuit\n",
        "@qml.qnode(dev_phase)\n",
        "def phase_circuit():\n",
        "  qml.PhaseShift(np.pi/2, wires=0)\n",
        "  return qml.state()\n",
        "\n",
        "# Print State Vector and Circuit Diagram\n",
        "print(phase_circuit())\n",
        "print(qml.draw(phase_circuit)())\n",
        "print(qml.draw_mpl(phase_circuit)())"
      ],
      "metadata": {
        "id": "Kqcmq6vCcydv",
        "outputId": "7c3567f6-ba9c-4498-a007-d94d6fcf6be7",
        "colab": {
          "base_uri": "https://localhost:8080/",
          "height": 289
        }
      },
      "execution_count": 8,
      "outputs": [
        {
          "output_type": "stream",
          "name": "stdout",
          "text": [
            "[1.+0.j 0.+0.j]\n",
            "0: ──Rϕ(1.57)─┤  State\n",
            "(<Figure size 400x200 with 1 Axes>, <Axes: >)\n"
          ]
        },
        {
          "output_type": "display_data",
          "data": {
            "text/plain": [
              "<Figure size 400x200 with 1 Axes>"
            ],
            "image/png": "[encoded data removed]"
          },
          "metadata": {}
        }
      ]
    }
  ]
}