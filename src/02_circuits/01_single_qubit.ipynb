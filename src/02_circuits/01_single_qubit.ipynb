{
  "nbformat": 4,
  "nbformat_minor": 0,
  "metadata": {
    "colab": {
      "provenance": [],
      "authorship_tag": "ABX9TyNP8IIEFQ0o/W9AnMxz02nm",
      "include_colab_link": true
    },
    "kernelspec": {
      "name": "python3",
      "display_name": "Python 3"
    },
    "language_info": {
      "name": "python"
    }
  },
  "cells": [
    {
      "cell_type": "markdown",
      "metadata": {
        "id": "view-in-github",
        "colab_type": "text"
      },
      "source": [
        "<a href=\"https://colab.research.google.com/github/akshziitj/qc-labs/blob/main/src/02_circuits/01_single_qubit.ipynb\" target=\"_parent\"><img src=\"https://colab.research.google.com/assets/colab-badge.svg\" alt=\"Open In Colab\"/></a>"
      ]
    },
    {
      "cell_type": "markdown",
      "source": [
        "# **Single Qubit Gates**\n",
        "---\n",
        "\n",
        "```\n",
        "* qml.Hadamard(wires=0)                # Hadamard\n",
        "* qml.PauliX(wires=0)                  # X gate\n",
        "* qml.PauliY(wires=0)                  # Y gate\n",
        "* qml.PauliZ(wires=0)                  # Z gate\n",
        "\n",
        "* qml.S(wires=0)                       # Phase gate\n",
        "* qml.T(wires=0)                       # T gate\n",
        "* qml.RX(np.pi/2, wires=0)             # Rotation around X\n",
        "* qml.RY(np.pi/3, wires=0)             # Rotation around Y\n",
        "* qml.RZ(np.pi/4, wires=0)             # Rotation around Z\n",
        "* qml.PhaseShift(np.pi/6, wires=0)     # General phase shift\n",
        "```\n",
        "\n",
        "\n",
        "\n",
        "\n"
      ],
      "metadata": {
        "id": "rd9zD4aUVET9"
      }
    },
    {
      "cell_type": "code",
      "source": [],
      "metadata": {
        "id": "hoQZIuzcVFsq"
      },
      "execution_count": null,
      "outputs": []
    }
  ]
}