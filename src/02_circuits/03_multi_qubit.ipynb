{
  "nbformat": 4,
  "nbformat_minor": 0,
  "metadata": {
    "colab": {
      "provenance": [],
      "authorship_tag": "ABX9TyO0fQKfc8rX43kW067azHn5",
      "include_colab_link": true
    },
    "kernelspec": {
      "name": "python3",
      "display_name": "Python 3"
    },
    "language_info": {
      "name": "python"
    }
  },
  "cells": [
    {
      "cell_type": "markdown",
      "metadata": {
        "id": "view-in-github",
        "colab_type": "text"
      },
      "source": [
        "<a href=\"https://colab.research.google.com/github/akshziitj/qc-labs/blob/main/src/02_circuits/03_multi_qubit.ipynb\" target=\"_parent\"><img src=\"https://colab.research.google.com/assets/colab-badge.svg\" alt=\"Open In Colab\"/></a>"
      ]
    },
    {
      "cell_type": "markdown",
      "source": [
        "# Multi Qubit Gates\n",
        "---\n",
        "```\n",
        "* qml.Toffoli(wires=[0, 1, 2])                         # CCNOT gate\n",
        "* qml.CCNOT(wires=[0, 1, 2])                           # alias for Toffoli\n",
        "* qml.MultiControlledX(control_wires=[0,1], wires=2)   # Multi-controlled X\n",
        "* qml.QFT(wires=[0, 1, 2])                             # Quantum Fourier Transform\n",
        "```\n",
        "\n"
      ],
      "metadata": {
        "id": "ohzBID9yX8jQ"
      }
    },
    {
      "cell_type": "code",
      "execution_count": null,
      "metadata": {
        "id": "LT4JlNoJX7pJ"
      },
      "outputs": [],
      "source": []
    }
  ]
}